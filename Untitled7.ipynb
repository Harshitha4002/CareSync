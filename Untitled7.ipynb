{
  "nbformat": 4,
  "nbformat_minor": 0,
  "metadata": {
    "colab": {
      "provenance": [],
      "authorship_tag": "ABX9TyP22OMcYq6A/3KrCg4zMDWq",
      "include_colab_link": true
    },
    "kernelspec": {
      "name": "python3",
      "display_name": "Python 3"
    },
    "language_info": {
      "name": "python"
    }
  },
  "cells": [
    {
      "cell_type": "markdown",
      "metadata": {
        "id": "view-in-github",
        "colab_type": "text"
      },
      "source": [
        "<a href=\"https://colab.research.google.com/github/Harshitha4002/CareSync/blob/main/Untitled7.ipynb\" target=\"_parent\"><img src=\"https://colab.research.google.com/assets/colab-badge.svg\" alt=\"Open In Colab\"/></a>"
      ]
    },
    {
      "cell_type": "markdown",
      "source": [
        "Factorial of a Num"
      ],
      "metadata": {
        "id": "NY4GlMYYnvoo"
      }
    },
    {
      "cell_type": "code",
      "source": [
        "# Hardcoded variables\n",
        "name = \"John\"\n",
        "age = 30\n",
        "\n",
        "print(f\"Name: {name}\")\n",
        "print(f\"Age: {age}\")\n"
      ],
      "metadata": {
        "colab": {
          "base_uri": "https://localhost:8080/"
        },
        "id": "-tZsJyjfpPen",
        "outputId": "8ab185c5-3368-4ebe-b5d8-4fc3cde3b5e0"
      },
      "execution_count": 4,
      "outputs": [
        {
          "output_type": "stream",
          "name": "stdout",
          "text": [
            "Name: John\n",
            "Age: 30\n"
          ]
        }
      ]
    },
    {
      "cell_type": "code",
      "source": [
        "# Using input() to accept keyboard input\n",
        "name = input(\"Enter your name: \")\n",
        "age = int(input(\"Enter your age: \"))\n",
        "\n",
        "print(f\"Name: {name}\")\n",
        "print(f\"Age: {age}\")\n"
      ],
      "metadata": {
        "id": "-AQfVlpApTBv"
      },
      "execution_count": null,
      "outputs": []
    },
    {
      "cell_type": "code",
      "source": [
        "with open('people.txt', 'w') as file:\n",
        "    file.write(input_data)\n",
        "\n",
        "print(\"File 'people_info.txt' created with ages and professions.\")"
      ],
      "metadata": {
        "id": "-Sx3Jl0KsC-Z"
      },
      "execution_count": null,
      "outputs": []
    }
  ]
}